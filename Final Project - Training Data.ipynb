{
 "cells": [
  {
   "cell_type": "markdown",
   "id": "6571f144",
   "metadata": {},
   "source": [
    "# Final Project - Training Data"
   ]
  },
  {
   "cell_type": "markdown",
   "id": "df64d7e6",
   "metadata": {},
   "source": [
    "This notebook loads and displays some examples from the training dataset.\n",
    "\n",
    "The training dataset contains a total of 4190 samples. All teams have been given the same training dataset. Your final model and report must be implemented and written using this training set.\n",
    "\n",
    "* You should expect the test dataset to have the same format as the training data: a folder with test images, and another folder with the respective coordinate txt files.\n",
    "\n",
    "Remember that *any* pre-processing applied in the training data should also be applied in the test data."
   ]
  },
  {
   "cell_type": "code",
   "execution_count": null,
   "id": "03787982",
   "metadata": {},
   "outputs": [],
   "source": [
    "import numpy as np\n",
    "import numpy.random as npr\n",
    "import os\n",
    "import matplotlib.pyplot as plt\n",
    "%matplotlib inline\n",
    "plt.style.use('bmh')\n",
    "import cv2"
   ]
  },
  {
   "cell_type": "code",
   "execution_count": null,
   "id": "b3a840f5",
   "metadata": {},
   "outputs": [],
   "source": [
    "# Loading Data\n",
    "training_images_path = \"Training Set/Training Images\"\n",
    "training_coordinates_path = \"Training Set/Training Coordinates\"\n",
    "\n",
    "training_images = np.array(os.listdir(training_images_path))[1:]\n",
    "\n",
    "training_images.shape"
   ]
  },
  {
   "cell_type": "code",
   "execution_count": null,
   "id": "cd5b17de-006f-4b4f-a014-963b35d97ed7",
   "metadata": {},
   "outputs": [],
   "source": [
    "## Utility functions\n",
    "\n",
    "def load_yolo_labels(label_file):\n",
    "    \"\"\" Load YOLO labels from a file. \"\"\"\n",
    "    with open(label_file, 'r') as f:\n",
    "        labels = f.readlines()\n",
    "    return [list(map(float, label.strip().split())) for label in labels]\n",
    "\n",
    "def convert_to_pixel_coordinates(yolo_bbox, image_width, image_height):\n",
    "    \"\"\" Convert YOLO normalized bounding box to pixel coordinates. \"\"\"\n",
    "    x_center, y_center, w, h = yolo_bbox[0], yolo_bbox[1], yolo_bbox[2], yolo_bbox[3]\n",
    "    \n",
    "    # Convert to pixel values\n",
    "    x_center *= image_width\n",
    "    y_center *= image_height\n",
    "    w *= image_width\n",
    "    h *= image_height\n",
    "    \n",
    "    # Calculate the top-left and bottom-right corners\n",
    "    x1 = x_center - w / 2\n",
    "    y1 = y_center - h / 2\n",
    "    x2 = x_center + w / 2\n",
    "    y2 = y_center + h / 2\n",
    "    \n",
    "    return x1, y1, x2, y2\n",
    "\n",
    "def plot_bounding_boxes(image_path, label_file):\n",
    "    \"\"\" Plot bounding boxes from YOLO label file on an image. \"\"\"\n",
    "    # Load image\n",
    "    image = cv2.imread(image_path)\n",
    "    image_height, image_width, _ = image.shape\n",
    "    \n",
    "    # Load YOLO labels\n",
    "    labels = load_yolo_labels(label_file)\n",
    "    \n",
    "    # Plot bounding boxes\n",
    "    plt.imshow(cv2.cvtColor(image, cv2.COLOR_BGR2RGB))\n",
    "    ax = plt.gca()\n",
    "    \n",
    "    for label in labels:\n",
    "        class_id, *bbox = label\n",
    "        x1, y1, x2, y2 = convert_to_pixel_coordinates(bbox, image_width, image_height)\n",
    "        \n",
    "        # Draw the bounding box on the image\n",
    "        ax.add_patch(plt.Rectangle((x1, y1), x2 - x1, y2 - y1, \n",
    "                                   linewidth=2, edgecolor='red', facecolor='none'))\n",
    "        ax.text(x1, y1, f'Class {int(class_id)}', color='white', fontsize=12, \n",
    "                bbox=dict(facecolor='red', alpha=0.5))\n",
    "    \n",
    "    # Display the image\n",
    "    plt.axis('off')\n",
    "    # plt.show()"
   ]
  },
  {
   "cell_type": "code",
   "execution_count": null,
   "id": "24e48594-73f7-461b-b2f5-d2c698a24985",
   "metadata": {},
   "outputs": [],
   "source": [
    "import random\n",
    "N=12\n",
    "img_idx = np.array(random.sample(range(training_images.shape[0]), N))\n",
    "\n",
    "plt.figure(figsize=(15,10))\n",
    "for i in range(N):\n",
    "    plt.subplot(3,4,i+1)\n",
    "    image_path = training_images_path+'/'+training_images[img_idx[i]]  # Path to the image file\n",
    "    label_file = training_coordinates_path +'/'+ training_images[img_idx[i]].strip('.jpg')+'.txt' # Path to the corresponding YOLO label file    \n",
    "    plot_bounding_boxes(image_path, label_file);"
   ]
  },
  {
   "cell_type": "markdown",
   "id": "11f8ca91-d35a-4194-b78c-2c3978ff4729",
   "metadata": {},
   "source": [
    "---"
   ]
  }
 ],
 "metadata": {
  "kernelspec": {
   "display_name": "Python 3 (ipykernel)",
   "language": "python",
   "name": "python3"
  },
  "language_info": {
   "codemirror_mode": {
    "name": "ipython",
    "version": 3
   },
   "file_extension": ".py",
   "mimetype": "text/x-python",
   "name": "python",
   "nbconvert_exporter": "python",
   "pygments_lexer": "ipython3",
   "version": "3.11.9"
  },
  "latex_envs": {
   "LaTeX_envs_menu_present": true,
   "autoclose": false,
   "autocomplete": true,
   "bibliofile": "biblio.bib",
   "cite_by": "apalike",
   "current_citInitial": 1,
   "eqLabelWithNumbers": true,
   "eqNumInitial": 1,
   "hotkeys": {
    "equation": "Ctrl-E",
    "itemize": "Ctrl-I"
   },
   "labels_anchors": false,
   "latex_user_defs": false,
   "report_style_numbering": false,
   "user_envs_cfg": false
  },
  "varInspector": {
   "cols": {
    "lenName": 16,
    "lenType": 16,
    "lenVar": 40
   },
   "kernels_config": {
    "python": {
     "delete_cmd_postfix": "",
     "delete_cmd_prefix": "del ",
     "library": "var_list.py",
     "varRefreshCmd": "print(var_dic_list())"
    },
    "r": {
     "delete_cmd_postfix": ") ",
     "delete_cmd_prefix": "rm(",
     "library": "var_list.r",
     "varRefreshCmd": "cat(var_dic_list()) "
    }
   },
   "types_to_exclude": [
    "module",
    "function",
    "builtin_function_or_method",
    "instance",
    "_Feature"
   ],
   "window_display": false
  },
  "widgets": {
   "application/vnd.jupyter.widget-state+json": {
    "state": {},
    "version_major": 2,
    "version_minor": 0
   }
  }
 },
 "nbformat": 4,
 "nbformat_minor": 5
}
